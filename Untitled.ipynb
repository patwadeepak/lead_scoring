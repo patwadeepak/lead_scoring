{
 "cells": [
  {
   "cell_type": "code",
   "execution_count": null,
   "metadata": {},
   "outputs": [],
   "source": [
    "from sklearn.model_selection import train_test_split\n",
    "\n",
    "test_score = score.loc[score['Asymmetrique Activity Score'].isnull(),:]\n",
    "\n",
    "test_score.head()\n",
    "\n",
    "train_score = score.loc[score['Asymmetrique Activity Score'].notnull(),:]\n",
    "\n",
    "train_score.head()\n",
    "\n",
    "y = train_score.pop('Asymmetrique Activity Score')\n",
    "X = train_score\n",
    "\n",
    "X_train, X_valid, y_train, y_valid = train_test_split(X, y, test_size=0.33, random_state=42)\n",
    "\n",
    "#from sklearn.preprocessing import MinMaxScaler\n",
    "\n",
    "#scaler = MinMaxScaler()\n",
    "\n",
    "#X_train = scaler.fit_transform(X_train)\n",
    "\n",
    "#X_valid = scaler.transform(X_valid)\n",
    "\n",
    "#scaler_y = MinMaxScaler()\n",
    "\n",
    "#y_train = scaler_y.fit_transform(pd.DataFrame(y_train))\n",
    "\n",
    "#y_valid = scaler_y.transform(pd.DataFrame(y_valid))\n",
    "\n",
    "import statsmodels.api as sm\n",
    "\n",
    "X_train_lm = sm.add_constant(X_train)\n",
    "\n",
    "lr = sm.OLS(y_train, X_train_lm).fit()\n",
    "\n",
    "lr.params\n",
    "\n",
    "print(lr.summary())\n",
    "\n",
    "plt.figure(figsize = (16, 10))\n",
    "sns.heatmap(pd.DataFrame(X_train).corr(), annot = True, cmap=\"YlGnBu\")\n",
    "plt.show()\n"
   ]
  }
 ],
 "metadata": {
  "kernelspec": {
   "display_name": "Python 3",
   "language": "python",
   "name": "python3"
  },
  "language_info": {
   "codemirror_mode": {
    "name": "ipython",
    "version": 3
   },
   "file_extension": ".py",
   "mimetype": "text/x-python",
   "name": "python",
   "nbconvert_exporter": "python",
   "pygments_lexer": "ipython3",
   "version": "3.7.0"
  }
 },
 "nbformat": 4,
 "nbformat_minor": 2
}
